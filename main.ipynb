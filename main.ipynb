{
 "cells": [
  {
   "cell_type": "code",
   "execution_count": 201,
   "metadata": {},
   "outputs": [],
   "source": [
    "from langchain.document_loaders import UnstructuredFileLoader\n",
    "from langchain.chains.summarize import load_summarize_chain\n",
    "from langchain.chains.question_answering import load_qa_chain\n",
    "import os\n",
    "from dotenv import load_dotenv, find_dotenv\n"
   ]
  },
  {
   "cell_type": "markdown",
   "metadata": {},
   "source": [
    "## Charger les documents"
   ]
  },
  {
   "cell_type": "code",
   "execution_count": 202,
   "metadata": {},
   "outputs": [],
   "source": [
    "long_loader = UnstructuredFileLoader(\"docs-to-load/arrete-07-avril.txt\")\n",
    "long_doc = long_loader.load() "
   ]
  },
  {
   "cell_type": "markdown",
   "metadata": {},
   "source": [
    "### Obtenir le nombre de mots dans chaque document"
   ]
  },
  {
   "cell_type": "code",
   "execution_count": 203,
   "metadata": {},
   "outputs": [],
   "source": [
    "def doc_preview(docs):\n",
    "    print (f'Tu as {len(docs)} document(s)')\n",
    "\n",
    "    #we split the doc word by word with using a space separator ```doc.page_content.split(' ')````\n",
    "    # we get the number of words with ```len()````\n",
    "    # then we loop over the docs to get the number of words separated by a space\n",
    "    num_words = sum([len(doc.page_content.split(' ')) for doc in docs])\n",
    "\n",
    "    #we print the number of words in the doc\n",
    "    print (f'Tu as en gros {num_words} mots dans ton document')\n",
    "    \n",
    "    print()\n",
    "    \n",
    "    #we preview the first document \n",
    "    print (f'Aperçu: {docs[0].page_content.split(\". \")}[0]')"
   ]
  },
  {
   "cell_type": "code",
   "execution_count": 204,
   "metadata": {},
   "outputs": [
    {
     "name": "stdout",
     "output_type": "stream",
     "text": [
      "Tu as 1 document(s)\n",
      "Tu as en gros 3261 mots dans ton document\n",
      "\n",
      "Aperçu: [\"Arrêté du 7 avril 2020 relatif aux modalités d'admission aux formations conduisant aux diplômes d'Etat d'aide-soignant et d'auxiliaire de puériculture Dernière mise à jour des données de ce texte : 12 juin 2023\\n\\nTITRE 1ER : DISPOSITIONS GÉNÉRALES (Articles 1 à 8 ter) Article 1 Modifié par Arrêté du 12 avril 2021 - art\", \"1\\n\\nI.- Les formations conduisant au diplôme d'Etat d'aide-soignant et au diplôme d'Etat d'auxiliaire de puériculture sont accessibles, sans condition de diplôme, par les voies suivantes :\\n\\n1° La formation initiale, dans les conditions fixées par le présent arrêté ;\\n\\n2° La formation professionnelle continue, dans les conditions fixées par le présent arrêté ;\\n\\n3° La validation, partielle ou totale, des acquis de l'expérience, dans les conditions fixées par arrêté du ministre chargé de la santé.\\n\\nLes candidats doivent être âgés de dix-sept ans au moins à la date d'entrée en formation.\\n\\nII.-Les formations visées au I sont délivrées par un institut de formation autorisé par le président du conseil régional en application de l'article L\", '4383-3 du code de la santé publique et répondant aux critères de qualité prévus aux articles L', '6316-1 et R', '6316-1 du code du travail.\\n\\nArticle 2 Modifié par Arrêté du 9 juin 2023 - art', \"2\\n\\nLa sélection des candidats est effectuée par un jury de sélection sur la base d'un dossier et d'un entretien destinés à apprécier les connaissances, les aptitudes et la motivation du candidat à suivre l'une des formations visées au premier alinéa de l'article 1er\", \"Les pièces constituant ce dossier sont listées à l'article 6\", \"L'ensemble fait l'objet d'une cotation par un binôme d'évaluateurs composé, selon la formation concernée, d'un aide-soignant ou d'un auxiliaire de puériculture en activité professionnelle ou ayant cessé celle-ci depuis moins d'un an et d'un formateur infirmier ou cadre de santé d'un institut de formation paramédical\", \"L'entretien d'une durée de quinze à vingt minutes est réalisé pour permettre d'apprécier les qualités humaines et relationnelles du candidat et son projet professionnel\", \"Il peut être réalisé à distance.\\n\\nSi l'entretien est collectif, un temps de parole minimal, d'au moins 10 minutes par candidat, est prévu\", \"Ce temps est identique pour tous les candidats d'un même centre de sélection\", \"La composition du jury reste inchangée.\\n\\nLes instituts de formation, lors de leur communication au public de l'ouverture de la sélection, précisent les modalités de l'entretien de sélection, notamment la durée et s'il est individuel ou collectif.\\n\\nLes modalités de sélection sont identiques pour les instituts de formation du même groupement.\\n\\nElles sont définies en accord avec l'agence régionale de santé, avant la date limite d'inscription fixée à l'article 7.\\n\\nArticle 2 bis Création Arrêté du 12 avril 2021 - art\", \"1\\n\\nAucun frais afférent à la sélection n'est facturé aux candidats mentionnés au I de l'article 1er.\\n\\nArticle 3\\n\\nSont admis dans l'une ou l'autre des formations visées au premier alinéa de l'article 1er et dans la limite de la capacité d'accueil autorisée en application de l'article 5 les candidats possédant les connaissances et aptitudes requises suffisantes pour suivre la formation, conformément aux attendus nationaux définis en annexe du présent arrêté.\\n\\nArticle 4 Modifié par Arrêté du 9 juin 2023 - art\", \"2\\n\\nLes modalités d'organisation du jury d'admission et sa composition sont définies en accord avec l'agence régionale de santé pour chacune des deux formations visées à l'article 1er.\\n\\nLes instituts de formation ont la possibilité de se regrouper, au niveau régional ou infrarégional, pour constituer ce jury\", \"En lien avec l'agence régionale de santé, un institut de formation pilote est désigné par les instituts du groupement pour l'organisation du jury d'admission\", \"La désignation de l'institut de formation pilote est revue régulièrement\", \"Un modèle de convention entre les instituts de formation est proposé à l'annexe II du présent arrêté.\\n\\nLes membres du jury d'admission sont désignés par le directeur de l'institut de formation, ou, en cas de regroupement, par le directeur de l'institut de formation pilote.\\n\\nLe jury d'admission présidé par le directeur d'institut susmentionné est composé d'au moins 10 % des évaluateurs ayant participé à la sélection prévue à l'article 2\", \"Les membres du jury d'admission peuvent se réunir et participer aux délibérations via les outils de communication à distance, permettant leur identification et garantissant la confidentialité des débats.\\n\\nLe jury d'admission établit un classement des candidatures retenues au regard des conditions requises à l'article 3\", \"Chaque institut ou groupement d'instituts de formation établit une liste principale et une liste complémentaire des candidats admis.\\n\\nLorsque la liste complémentaire n'a pas permis de pourvoir l'ensemble des places offertes, le directeur de l'institut de formation concerné peut faire appel, dans la limite des places disponibles, à des candidats inscrits sur la liste complémentaire d'autres instituts, restés sans affectation à l'issue de la procédure d'admission dans ceux-ci\", \"La priorité est accordée aux candidats admis sur liste complémentaire dans les instituts du même groupement puis de la région.\\n\\nUn recensement des places disponibles peut être centralisé au niveau régional ou infrarégional en lien avec l'agence régionale de santé.\\n\\nArticle 5 Modifié par Arrêté du 12 avril 2021 - art\", \"1\\n\\nI.-Hormis les situations définies à l'article 12, le nombre de places ouvertes par session de formation au sein de chaque institut de formation ne peut excéder la capacité d'accueil autorisée par le conseil régional pour cette session.\\n\\nII.-Les instituts de formation informent les candidats, avant la date limite de dépôt des dossiers fixée à l'article 7, des modalités d'organisation de la sélection, du nombre de places ouvertes et du calendrier prévisionnel de publication des résultats.\\n\\nArticle 6 Modifié par Arrêté du 12 avril 2021 - art\", \"1\\n\\nLes candidats déposent leur dossier directement auprès de l'institut ou des instituts de formation de leur choix\", \"En cas de regroupement d'instituts, les candidats déposent un seul dossier auprès de l'institut de formation pilote mentionné à l'article 4 et priorisent les instituts de leur choix au sein du groupement.\\n\\nLe dossier comporte les pièces suivantes :\\n\\n1° Une pièce d'identité ;\\n\\n2° Une lettre de motivation manuscrite ;\\n\\n3° Un curriculum vitae ;\\n\\n4° Un document manuscrit relatant, au choix du candidat, soit une situation personnelle ou professionnelle vécue, soit son projet professionnel en lien avec les attendus de la formation\", \"Ce document n'excède pas deux pages ;\\n\\n5° Selon la situation du candidat, la copie des originaux de ses diplômes ou titres traduits en français ;\\n\\n6° Le cas échéant, la copie de ses relevés de résultats et appréciations ou bulletins scolaires ;\\n\\n7° Selon la situation du candidat, les attestations de travail, accompagnées éventuellement des appréciations et/ou recommandations de l'employeur (ou des employeurs) ;\\n\\n8° Pour les ressortissants étrangers, un titre de séjour valide à l'entrée en formation.\\n\\nLorsque le niveau de français à l'écrit et à l'oral ne peut être vérifié à travers les pièces produites ci-dessus, au regard notamment de leur parcours scolaire, de leurs diplômes et titres ou de leur parcours professionnel, les candidats joignent à leur dossier une attestation de niveau de langue française égal ou supérieur au niveau B2 du cadre européen commun de référence pour les langues du Conseil de l'Europe\", \"A défaut, ils produisent tout autre document permettant d'apprécier les capacités et les attendus relatifs à la maitrise du français à l'oral.\\n\\nSelon la formation à laquelle ils s'inscrivent, les candidats peuvent joindre tout autre justificatif valorisant un engagement ou une expérience personnelle (associative, sportive…) en lien avec la profession d'aide-soignant ou d'auxiliaire de puériculture.\\n\\nLes candidats en situation de handicap peuvent demander, lors du dépôt de leur dossier, un aménagement des conditions de déroulement de l'entretien prévu à l'article 2.\\n\\nArticle 7 Modifié par Arrêté du 10 juin 2021 - art\", \"24 (V)\\n\\nL'institut de formation ou le groupement d'instituts de formation détermine la date limite de dépôt des dossiers de candidature en accord avec l'agence régionale de santé\", \"Pour une rentrée effectuée en septembre, cette date est fixée entre le 10 juin et le 30 juin de la même année.\\n\\nPour une rentrée effectuée à une autre période, la date limite de dépôt des dossiers de candidature est fixée d'un commun accord entre l'institut de formation ou le groupement et l'agence régionale de santé.\\n\\nNOTA : Conformément à l'article 24 de l'arrêté du 10 juin 2021 (NOR : SSAH2110960A), ces dispositions sont d'application immédiate.\\n\\nArticle 8 Modifié par Arrêté du 12 avril 2021 - art\", '1\\n\\nLes résultats comportant la liste des candidats admis en formation sont affichés dans chaque institut de formation et publiés sur internet, dans le respect des conditions en vigueur de communication des données personnelles des candidats.\\n\\nChaque candidat est informé personnellement par écrit de ses résultats', \"Il dispose d'un délai de sept jours ouvrés pour valider son inscription en institut de formation en cas d'admission en liste principale\", \"Au-delà de ce délai, il est présumé avoir renoncé à son admission et sa place est proposée au candidat inscrit en rang utile sur la liste complémentaire.\\n\\nLe bénéfice de l'admission est valable uniquement pour la session de formation au titre de laquelle le candidat s'est inscrit.\\n\\nLa liste des affectations définitives est transmise par le directeur de l'institut de formation à l'agence régionale de santé.\\n\\nArticle 8 bis Modifié par Arrêté du 9 juin 2023 - art\", \"2\\n\\nChaque année, l'institut de formation autorisé à délivrer l'une ou l'autre des formations visées au I de l'article 1er organise au moins deux rentrées, en fonction des besoins de professionnels à former sur le territoire appréciés par l'agence régionale de santé, selon le calendrier suivant :\\n\\n1° Une rentrée dont la date est organisée la dernière semaine du mois d'août ou au plus tard le premier jour ouvré du mois de septembre ;\\n\\n2° Une rentrée dont la date est fixée entre le 2 janvier et le 31 mars.\\n\\nDes rentrées supplémentaires peuvent être organisées tout au long de l'année pour répondre aux besoins et à la pluralité des publics formés sur le territoire.\\n\\nLes classes dédiées entièrement à des apprentis avec contrat ne sont pas soumises aux exigences du calendrier de rentrée défini aux 1° et 2°.\\n\\nLe calendrier des rentrées est publié après accord conjoint de l'agence régionale de santé et du conseil régional\", \"L'autorité certificatrice en est informée par l'agence régionale de santé.\\n\\nArticle 8 ter Création Arrêté du 12 avril 2021 - art\", \"1\\n\\nL'admission définitive est subordonnée :\\n\\n1° A la production, au plus tard le jour de la rentrée, d'un certificat médical émanant d'un médecin agréé attestant que le candidat n'est atteint d'aucune affection d'ordre physique ou psychologique incompatible avec l'exercice de la profession à laquelle il se destine ;\\n\\n2° A la production, avant la date d'entrée au premier stage, d'un certificat médical attestant que l'élève remplit les obligations d'immunisation et de vaccination prévues le cas échéant par les dispositions du titre Ier du livre Ier de la troisième partie législative du code de la santé publique.\\n\\nTITRE II : DISPOSITIONS SPÉCIFIQUES (Articles 9 à 14) Article 9 Modifié par Arrêté du 12 avril 2021 - art\", \"2\\n\\nAprès admission en formation, pour les élèves ou les apprentis ayant déjà acquis un ou plusieurs blocs de compétences communs avec la certification professionnelle visée, ou lorsque leur parcours de formation antérieur leur permet de bénéficier d'un allégement de formation, le directeur de l'institut de formation met en place, en accord avec l'agence régionale de santé, des parcours individualisés de formation permettant d'accueillir des groupes d'apprenants de niveau homogène selon un calendrier de certification adapté\", \"Les cursus mis en place dans ce cadre peuvent débuter à tout moment de l'année.\\n\\nLes titres et les certifications professionnelles conduisant à des équivalences de blocs de compétences ou à des allégements de formation dans les certifications visées au I de l'article 1er sont listés dans un arrêté du ministre chargé de la santé.\\n\\nArticle 10 Modifié par Arrêté du 12 avril 2021 - art\", \"2\\n\\nI.-Les personnes ayant déjà été sélectionnées à l'issue d'un entretien avec un employeur pour un contrat d'apprentissage dans l'une des formations visées au premier alinéa du I de l'article 1er, sollicitent une inscription auprès d'un institut de formation de leur choix, habilité à délivrer des actions de formation par apprentissage au sens de l'article L\", \"6211-2 du code du travail et autorisé par le président du conseil régional en application de l'article L\", \"4383-3 du code de la santé publique.\\n\\nLe directeur de l'institut de formation concerné procède à leur admission directe en formation, au regard des documents suivants décrivant la situation du futur apprenti :\\n\\n1° Une copie de la pièce d'identité de l'apprenti ;\\n\\n2° Une lettre de motivation avec description du projet professionnel de l'apprenti ;\\n\\n3° Un curriculum vitae de l'apprenti ;\\n\\n4° Une copie du contrat d'apprentissage signé ou tout document justifiant de l'effectivité des démarches réalisées en vue de la signature imminente du contrat d'apprentissage.\\n\\nLe déroulement de la formation des apprentis est défini dans les textes régissant la certification visée.\\n\\nII.-En l'absence de validité d'un contrat d'apprentissage, les candidats sont soumis à l'épreuve de sélection prévue à l'article 2 et admis en formation sur la base des articles 3 et 5 du présent arrêté.\\n\\nArticle 11 Modifié par Arrêté du 12 avril 2021 - art\", \"2\\n\\nSont dispensés de l'épreuve de sélection prévue à l'article 2, les agents des services hospitaliers qualifiés de la fonction publique hospitalière et les agents de service :\\n\\n1° Justifiant d'une ancienneté de services cumulée d'au moins un an en équivalent temps plein, effectués au sein d'un ou plusieurs établissements sanitaires et médico-sociaux des secteurs public et privé ou dans des services d'accompagnement et d'aide au domicile des personnes ;\\n\\n2° Ou justifiant à la fois du suivi de la formation continue de soixante-dix heures relative à la participation aux soins d'hygiène, de confort et de bien-être de la personne âgée et d'une ancienneté de services cumulée d'au moins six mois en équivalent temps plein, effectués au sein d'un ou plusieurs établissements sanitaires et médico-sociaux des secteurs public et privé ou dans des services d'accompagnement et d'aide au domicile des personnes.\\n\\nLes personnels visés aux 1° et 2° sont directement admis en formation sur décision du directeur de l'institut de formation concerné, dans les conditions prévues au II de l'article 12.\\n\\nArticle 12 Modifié par Arrêté du 12 avril 2021 - art\", '2 Modifié par Arrêté du 12 avril 2021 - art', \"4 (V)\\n\\nI.-La limite fixée au I de l'article 5 ne s'applique pas aux candidats inscrits dans le cadre de la formation par la voie de l'apprentissage et de la validation des acquis de l'expérience.\\n\\nLes instituts de formation concernés s'engagent à garantir la qualité pédagogique de la formation délivrée sous le contrôle de l'agence régionale de santé ainsi que la sécurité de l'accueil en formation des apprenants selon la réglementation en vigueur.\\n\\nII.-Un minimum de 20 % des places autorisées par la Région, par institut de formation ou pour l'ensemble du groupement d'instituts de formation, est réservé aux agents relevant de la formation professionnelle continue visés à l'article 11, quels que soient les modes de financement et d'accès à la formation visée\", \"Toutefois, lorsque ces personnes accèdent à la formation par la validation des acquis de l'expérience, leur formation est comptabilisée hors capacité d'accueil conformément au premier alinéa du I du présent article\", \"Les places non pourvues sont réattribuées aux autres candidats relevant de l'article 5.\\n\\nArticle 13 Modifié par Arrêté du 12 avril 2021 - art\", \"2\\n\\nPar dérogation à l'article 8, le directeur de l'institut de formation peut accorder, pour une durée qu'il détermine et dans la limite cumulée de deux ans, un report pour l'entrée en scolarité dans l'institut de formation :\\n\\n1° Soit, de droit, en cas de congé pour cause de maternité, de rejet du bénéfice de la promotion professionnelle ou sociale, de rejet d'une demande de congé formation, de rejet d'une demande de mise en disponibilité, de report d'un contrat d'apprentissage ou pour la garde d'un enfant de moins de quatre ans ;\\n\\n2° Soit, de façon exceptionnelle, sur la base des éléments apportés par le candidat justifiant de la survenance d'un événement important l'empêchant de débuter sa formation.\\n\\nTout candidat bénéficiant d'un report d'admission doit, au moins trois mois avant la date de rentrée prévue, confirmer son intention de reprendre sa scolarité à ladite rentrée.\\n\\nArticle 14 Modifié par Arrêté du 12 avril 2021 - art\", \"2\\n\\nPar dérogation à l'article 8, sur demande écrite, les candidats classés en liste complémentaire et non admis à l'issue de la phase de sélection peuvent être admis après épuisement de la liste complémentaire du groupement d'instituts concerné, à la rentrée suivante dans le même groupement ou dans un autre groupement, sous réserve des places disponibles autorisées par le conseil régional.\\n\\nA compter de la date de confirmation d'admission par l'institut, les candidats disposent d'un délai de sept jours ouvrés pour valider leur inscription en institut de formation.\\n\\nDISPOSITIONS TRANSITOIRES ET FINALES (Articles 15 à 18) Article 15 Création Arrêté du 12 avril 2021 - art\", \"3\\n\\nDans le contexte exceptionnel de mobilisation nationale pour protéger au mieux l'ensemble de la population et éviter les rassemblements et les déplacements propices à la propagation de l'épidémie de la covid-19, les dispositions de l'article 4-8° de l'arrêté du 30 décembre 2020 modifié relatif à l'adaptation des modalités d'admission, aux aménagements de formation et à la procédure de délivrance de diplômes ou titres de certaines formations en santé dans le cadre de la lutte contre la propagation de la covid-19, demeurent applicables jusqu'à la fin de l'état d'urgence déclaré en application de l'article 1er du décret n° 2020-1257 du 14 octobre 2020.\\n\\nArticle 16 Création Arrêté du 12 avril 2021 - art\", '4 (V)\\n\\nArticle 17 Modifié par Arrêté du 10 juin 2021 - art', \"24 (V)\\n\\nLes dispositions de l'article 8 bis entrent en vigueur selon les modalités suivantes, sous la responsabilité de l'agence régionale de santé :\\n\\nI.-La rentrée fixée au 1° de l'article 8 bis est applicable :\\n\\n1° A compter de septembre 2021 dans au moins 60 % des instituts de formation de chaque région ;\\n\\n2° A compter de septembre 2022 dans l'ensemble des instituts de formation.\\n\\nII.-La rentrée fixée au 2° de l'article 8 bis est applicable au plus tard entre le 2 janvier et le 31 mars 2023 dans tous les instituts de formation.\\n\\nPar dérogation au 1° de l'article 8 bis, les instituts de formation nouvellement autorisés par le président du conseil régional à délivrer la formation en 2021 peuvent effectuer la première rentrée en octobre 2021 au lieu de la première semaine du mois de septembre 2021.\\n\\nNOTA : Conformément à l'article 24 de l'arrêté du 10 juin 2021 (NOR : SSAH2110960A), ces dispositions sont d'application immédiate.\\n\\nArticle 18 Création Arrêté du 12 avril 2021 - art\", \"4 (V)\\n\\nLa directrice générale de l'offre de soins est chargée de l'exécution du présent arrêté, qui sera publié au Journal officiel de la République française.\\n\\nAnnexes Article Modifié par Arrêté du 9 juin 2023 - art\", \"2\\n\\nANNEXE I\\n\\nCONNAISSANCES ET APTITUDES ATTENDUES POUR SUIVRE LES FORMATIONS CONDUISANT AUX DIPLÔMES D'ÉTAT D'AIDE-SOIGNANT ET D'AUXILIAIRE DE PUÉRICULTURE\\n\\nLes attendus et critères nationaux sont les suivants :\\n\\nAttendus 1 : Intérêt pour le domaine de l'accompagnement et de l'aide à la personne notamment en situation de vulnérabilité Critères 1 :Connaissances dans le domaine sanitaire, médico-social, social ou sociétal\\n\\nAttendus 2: Qualités humaines et capacités relationnelles Critères 2: Aptitude à faire preuve d'attention à l'autre, d'écoute et d'ouverture d'esprit; Aptitude à entrer en relation avec une personne et à communiquer ;Aptitude à collaborer et à travailler en équipe\\n\\nAttendus 3: Aptitudes en matière d'expression écrite, orale Critères 3: Maîtrise du français et du langage écrit et oral; Pratique des outils numériques\\n\\nAttendus 4: Capacités d'analyse et maîtrise des bases de l'arithmétique Critères 4: Aptitude à élaborer un raisonnement logique à partir de connaissances et de recherches fiables; Maîtrise des bases de calcul et des unités de mesure\\n\\nAttendus 5: Capacités organisationnelles Critères 5: Aptitudes d'observation, à s'organiser, à prioriser les activités, autonomie dans le travail\\n\\nLes connaissances et aptitudes peuvent être vérifiées dans un cadre scolaire, professionnel, associatif ou autre.\\n\\nFait le 7 avril 2020.\\n\\nPour le ministre et par délégation : La cheffe de service, adjointe à la directrice générale de l'offre de soins, S\", 'Decoopman'][0]\n"
     ]
    }
   ],
   "source": [
    "doc_preview(long_doc)"
   ]
  },
  {
   "cell_type": "markdown",
   "metadata": {},
   "source": [
    "## Charger le modèle de langage"
   ]
  },
  {
   "cell_type": "code",
   "execution_count": 205,
   "metadata": {},
   "outputs": [],
   "source": [
    "from langchain_openai.llms import OpenAI"
   ]
  },
  {
   "cell_type": "code",
   "execution_count": 206,
   "metadata": {},
   "outputs": [],
   "source": [
    "OPENAI_API_KEY = os.getenv('OPENAI_API_KEY')"
   ]
  },
  {
   "cell_type": "code",
   "execution_count": 207,
   "metadata": {},
   "outputs": [],
   "source": [
    "from langchain_openai import ChatOpenAI"
   ]
  },
  {
   "cell_type": "markdown",
   "metadata": {},
   "source": [
    "## Découper le long texte en morceaux"
   ]
  },
  {
   "cell_type": "code",
   "execution_count": 208,
   "metadata": {},
   "outputs": [],
   "source": [
    "from langchain.text_splitter import RecursiveCharacterTextSplitter"
   ]
  },
  {
   "cell_type": "code",
   "execution_count": 209,
   "metadata": {},
   "outputs": [],
   "source": [
    "textsplitter = RecursiveCharacterTextSplitter (chunk_size=400, chunk_overlap=0)"
   ]
  },
  {
   "cell_type": "code",
   "execution_count": 210,
   "metadata": {},
   "outputs": [],
   "source": [
    "document_long_morceaux = textsplitter.split_documents(long_doc)"
   ]
  },
  {
   "cell_type": "code",
   "execution_count": 211,
   "metadata": {},
   "outputs": [
    {
     "name": "stdout",
     "output_type": "stream",
     "text": [
      "Tu as 76 document(s)\n",
      "Tu as en gros 3326 mots dans ton document\n",
      "\n",
      "Aperçu: [\"Arrêté du 7 avril 2020 relatif aux modalités d'admission aux formations conduisant aux diplômes d'Etat d'aide-soignant et d'auxiliaire de puériculture Dernière mise à jour des données de ce texte : 12 juin 2023\\n\\nTITRE 1ER : DISPOSITIONS GÉNÉRALES (Articles 1 à 8 ter) Article 1 Modifié par Arrêté du 12 avril 2021 - art\", '1'][0]\n",
      " \n",
      " ⭐️ Remarque : au lieu d'avoir 1 document, nous avons maintenant 76 plus petits documents\n"
     ]
    }
   ],
   "source": [
    "doc_preview(document_long_morceaux)\n",
    "print(f\" \\n ⭐️ Remarque : au lieu d'avoir {len(long_doc)} document, nous avons maintenant {len(document_long_morceaux)} plus petits documents\")"
   ]
  },
  {
   "cell_type": "markdown",
   "metadata": {},
   "source": [
    "## Résumer puis utiliser les liens et la réduction pour éviter les problèmes de dépassements de tokens dans les textes longs"
   ]
  },
  {
   "cell_type": "markdown",
   "metadata": {},
   "source": [
    "### Résumé"
   ]
  },
  {
   "cell_type": "code",
   "execution_count": 212,
   "metadata": {},
   "outputs": [],
   "source": [
    "from langchain.chains.combine_documents.stuff import StuffDocumentsChain\n",
    "from langchain.chains.llm import LLMChain\n",
    "from langchain_core.prompts import PromptTemplate\n",
    "from langchain.chains import MapReduceDocumentsChain, ReduceDocumentsChain\n"
   ]
  },
  {
   "cell_type": "code",
   "execution_count": 213,
   "metadata": {},
   "outputs": [],
   "source": [
    "llm = ChatOpenAI(temperature=0)"
   ]
  },
  {
   "cell_type": "markdown",
   "metadata": {},
   "source": [
    "## ❌ 👎🏽 Essai de résumé avec \"load_summarize_chain\" (donne le résumé en anglais!!)"
   ]
  },
  {
   "cell_type": "markdown",
   "metadata": {},
   "source": [
    "- tutoriel YT de Greg Kamradt : https://www.youtube.com/watch?v=f9_BWhCI4ZoGithub\n",
    "- Github: https://github.com/gkamradt/langchain-tutorials/blob/main/chains/Chain%20Types.ipynb"
   ]
  },
  {
   "cell_type": "code",
   "execution_count": 221,
   "metadata": {},
   "outputs": [
    {
     "data": {
      "text/plain": [
       "{'input_documents': [Document(page_content=\"Arrêté du 7 avril 2020 relatif aux modalités d'admission aux formations conduisant aux diplômes d'Etat d'aide-soignant et d'auxiliaire de puériculture Dernière mise à jour des données de ce texte : 12 juin 2023\\n\\nTITRE 1ER : DISPOSITIONS GÉNÉRALES (Articles 1 à 8 ter) Article 1 Modifié par Arrêté du 12 avril 2021 - art. 1\", metadata={'source': 'docs-to-load/arrete-07-avril.txt'}),\n",
       "  Document(page_content=\"I.- Les formations conduisant au diplôme d'Etat d'aide-soignant et au diplôme d'Etat d'auxiliaire de puériculture sont accessibles, sans condition de diplôme, par les voies suivantes :\\n\\n1° La formation initiale, dans les conditions fixées par le présent arrêté ;\\n\\n2° La formation professionnelle continue, dans les conditions fixées par le présent arrêté ;\", metadata={'source': 'docs-to-load/arrete-07-avril.txt'}),\n",
       "  Document(page_content=\"3° La validation, partielle ou totale, des acquis de l'expérience, dans les conditions fixées par arrêté du ministre chargé de la santé.\\n\\nLes candidats doivent être âgés de dix-sept ans au moins à la date d'entrée en formation.\", metadata={'source': 'docs-to-load/arrete-07-avril.txt'})],\n",
       " 'output_text': 'This document is an order regarding the admission procedures for training programs leading to state diplomas in nursing assistant and childcare assistant. It states that these programs can be accessed without any diploma requirements through initial training or professional continuing education. The validation of prior experience is allowed, and candidates must be at least 17 years old to enter the program. The document was last updated on June 12, 2023, and includes general provisions.'}"
      ]
     },
     "execution_count": 221,
     "metadata": {},
     "output_type": "execute_result"
    }
   ],
   "source": [
    "# Define prompt\n",
    "prompt_template = \"\"\"Ecris un résumé concis de ce qui suit :\n",
    "\"{long_doc_chunked}\"\n",
    "RESUME CONCIS:\"\"\"\n",
    "prompt = PromptTemplate.from_template(prompt_template)\n",
    "\n",
    "# Define LLM chain\n",
    "llm = ChatOpenAI(temperature=0, model_name=\"gpt-3.5-turbo-16k\")\n",
    "llm_chain = LLMChain(llm=llm, prompt=prompt)\n",
    "\n",
    "chain = load_summarize_chain(llm, chain_type=\"map_reduce\")\n",
    "\n",
    "to_translate = chain.invoke(document_long_morceaux[:3])\n",
    "\n",
    "to_translate\n"
   ]
  },
  {
   "cell_type": "code",
   "execution_count": 223,
   "metadata": {},
   "outputs": [
    {
     "data": {
      "text/plain": [
       "'{\\'input_documents\\': [Document(page_content=\"Arrêté du 7 avril 2020 relatif aux modalités d\\'admission aux formations conduisant aux diplômes d\\'Etat d\\'aide-soignant et d\\'auxiliaire de puériculture Dernière mise à jour des données de ce texte : 12 juin 2023\\\\n\\\\nTITRE 1ER : DISPOSITIONS GÉNÉRALES (Articles 1 à 8 ter) Article 1 Modifié par Arrêté du 12 avril 2021 - art. 1\", metadata={\\'source\\': \\'docs-to-load/arrete-07-avril.txt\\'}), Document(page_content=\"I.- Les formations conduisant au diplôme d\\'Etat d\\'aide-soignant et au diplôme d\\'Etat d\\'auxiliaire de puériculture sont accessibles, sans condition de diplôme, par les voies suivantes :\\\\n\\\\n1° La formation initiale, dans les conditions fixées par le présent arrêté ;\\\\n\\\\n2° La formation professionnelle continue, dans les conditions fixées par le présent arrêté ;\", metadata={\\'source\\': \\'docs-to-load/arrete-07-avril.txt\\'}), Document(page_content=\"3° La validation, partielle ou totale, des acquis de l\\'expérience, dans les conditions fixées par arrêté du ministre chargé de la santé.\\\\n\\\\nLes candidats doivent être âgés de dix-sept ans au moins à la date d\\'entrée en formation.\", metadata={\\'source\\': \\'docs-to-load/arrete-07-avril.txt\\'})], \\'output_text\\': \\'This document is an order regarding the admission procedures for training programs leading to state diplomas in nursing assistant and childcare assistant. It states that these programs can be accessed without any diploma requirements through initial training or professional continuing education. The validation of prior experience is allowed, and candidates must be at least 17 years old to enter the program. The document was last updated on June 12, 2023, and includes general provisions.\\'}'"
      ]
     },
     "execution_count": 223,
     "metadata": {},
     "output_type": "execute_result"
    }
   ],
   "source": [
    "from deep_translator import GoogleTranslator\n",
    "translated = GoogleTranslator(source='auto',target='fr').translate(str(to_translate))\n",
    "translated"
   ]
  },
  {
   "cell_type": "markdown",
   "metadata": {},
   "source": [
    "## ✅ 👍🏽🎉 Essai en détaillant toute la Pipeline équivalente à l'objet \"load_summarize_chain\" : donne le résumé en français "
   ]
  },
  {
   "cell_type": "markdown",
   "metadata": {},
   "source": [
    "source : https://python.langchain.com/v0.1/docs/use_cases/summarization/"
   ]
  },
  {
   "cell_type": "code",
   "execution_count": 215,
   "metadata": {},
   "outputs": [],
   "source": [
    "# Map\n",
    "map_template = \"\"\"Ce qui suit est un ensemble de documents\n",
    "{document_long_morceaux}\n",
    "Sur la base de cette liste de long_doc_chunked, identifie les principaux thèmes \n",
    "Réponses Utiles:\"\"\"\n",
    "map_prompt = PromptTemplate.from_template(map_template)\n",
    "map_chain = LLMChain(llm=llm, prompt=map_prompt)"
   ]
  },
  {
   "cell_type": "code",
   "execution_count": 216,
   "metadata": {},
   "outputs": [],
   "source": [
    "# Reduce\n",
    "reduce_template = \"\"\"Ce qui suit est un ensemble de résumés :\n",
    "{document_long_morceaux}\n",
    "Prends-les et distille-les dans un résumé final et consolidé des principaux thèmes. \n",
    "Réponses Utiles:\"\"\"\n",
    "reduce_prompt = PromptTemplate.from_template(reduce_template)"
   ]
  },
  {
   "cell_type": "code",
   "execution_count": 217,
   "metadata": {},
   "outputs": [],
   "source": [
    "#Run the Reduce chain\n",
    "reduce_chain = LLMChain(llm=llm, prompt=reduce_prompt)"
   ]
  },
  {
   "cell_type": "code",
   "execution_count": 218,
   "metadata": {},
   "outputs": [],
   "source": [
    "# Takes a list of documents, combines them into a single string, and passes this to an LLMChain\n",
    "combine_documents_chain = StuffDocumentsChain(\n",
    "    llm_chain=reduce_chain, document_variable_name=\"document_long_morceaux\"\n",
    ")"
   ]
  },
  {
   "cell_type": "code",
   "execution_count": 219,
   "metadata": {},
   "outputs": [],
   "source": [
    "# Combines and iteratively reduces the mapped documents\n",
    "reduce_documents_chain = ReduceDocumentsChain(\n",
    "    # This is final chain that is called.\n",
    "    combine_documents_chain=combine_documents_chain,\n",
    "    # If documents exceed context for `StuffDocumentsChain`\n",
    "    collapse_documents_chain=combine_documents_chain,\n",
    "    # The maximum number of tokens to group documents into.\n",
    "    token_max=4096,\n",
    ")"
   ]
  },
  {
   "cell_type": "code",
   "execution_count": 220,
   "metadata": {},
   "outputs": [
    {
     "data": {
      "text/plain": [
       "{'input_documents': [Document(page_content=\"Arrêté du 7 avril 2020 relatif aux modalités d'admission aux formations conduisant aux diplômes d'Etat d'aide-soignant et d'auxiliaire de puériculture Dernière mise à jour des données de ce texte : 12 juin 2023\\n\\nTITRE 1ER : DISPOSITIONS GÉNÉRALES (Articles 1 à 8 ter) Article 1 Modifié par Arrêté du 12 avril 2021 - art. 1\", metadata={'source': 'docs-to-load/arrete-07-avril.txt'}),\n",
       "  Document(page_content=\"I.- Les formations conduisant au diplôme d'Etat d'aide-soignant et au diplôme d'Etat d'auxiliaire de puériculture sont accessibles, sans condition de diplôme, par les voies suivantes :\\n\\n1° La formation initiale, dans les conditions fixées par le présent arrêté ;\\n\\n2° La formation professionnelle continue, dans les conditions fixées par le présent arrêté ;\", metadata={'source': 'docs-to-load/arrete-07-avril.txt'}),\n",
       "  Document(page_content=\"3° La validation, partielle ou totale, des acquis de l'expérience, dans les conditions fixées par arrêté du ministre chargé de la santé.\\n\\nLes candidats doivent être âgés de dix-sept ans au moins à la date d'entrée en formation.\", metadata={'source': 'docs-to-load/arrete-07-avril.txt'})],\n",
       " 'output_text': \"L'arrêté du 7 avril 2020 concerne les modalités d'admission aux formations conduisant aux diplômes d'Etat d'aide-soignant et d'auxiliaire de puériculture. Il précise que ces formations sont accessibles sans condition de diplôme par la formation initiale, la formation professionnelle continue ou la validation des acquis de l'expérience. Les candidats doivent avoir au moins dix-sept ans pour entrer en formation.\"}"
      ]
     },
     "execution_count": 220,
     "metadata": {},
     "output_type": "execute_result"
    }
   ],
   "source": [
    "#we run the summarization on the first 5 chunks (\"docs\") of the long doc not to waste the api query usage\n",
    "reduce_documents_chain.invoke(document_long_morceaux[:3])"
   ]
  },
  {
   "cell_type": "code",
   "execution_count": null,
   "metadata": {},
   "outputs": [],
   "source": []
  }
 ],
 "metadata": {
  "kernelspec": {
   "display_name": "venv240514",
   "language": "python",
   "name": "python3"
  },
  "language_info": {
   "codemirror_mode": {
    "name": "ipython",
    "version": 3
   },
   "file_extension": ".py",
   "mimetype": "text/x-python",
   "name": "python",
   "nbconvert_exporter": "python",
   "pygments_lexer": "ipython3",
   "version": "3.11.7"
  }
 },
 "nbformat": 4,
 "nbformat_minor": 2
}
